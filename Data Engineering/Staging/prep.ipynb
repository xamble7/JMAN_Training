{
 "cells": [
  {
   "cell_type": "code",
   "execution_count": 2,
   "metadata": {},
   "outputs": [],
   "source": [
    "import numpy as np\n",
    "import pandas as pd\n",
    "import seaborn as sns\n",
    "import matplotlib.pyplot as plt\n",
    "%matplotlib inline\n",
    "sns.set_style(\"darkgrid\")\n",
    "sns.set_context(\"paper\")"
   ]
  },
  {
   "cell_type": "markdown",
   "metadata": {},
   "source": [
    "# Import from the Raw Layer"
   ]
  },
  {
   "cell_type": "code",
   "execution_count": 5,
   "metadata": {},
   "outputs": [],
   "source": [
    "# File paths\n",
    "assessments_file_path = r\"..\\Raw\\assessments.csv\"\n",
    "courses_file_path = r\"..\\Raw\\courses.csv\"\n",
    "course_skill_mapping_file_path = r\"..\\Raw\\course_skill_mapping.csv\"\n",
    "skills_file_path = r\"..\\Raw\\skills.csv\"\n",
    "employee_skill_proficiency_file_path = r\"..\\Raw\\employee_skill_proficiency.csv\"\n",
    "employees_file_path = r\"..\\Raw\\employees.csv\""
   ]
  },
  {
   "cell_type": "code",
   "execution_count": 6,
   "metadata": {},
   "outputs": [],
   "source": [
    "# Read the csv files using pandas\n",
    "assessments_df = pd.read_csv(assessments_file_path)\n",
    "courses_df = pd.read_csv(courses_file_path)\n",
    "course_skill_df = pd.read_csv(course_skill_mapping_file_path)\n",
    "skills_df = pd.read_csv(skills_file_path)\n",
    "employee_skill_proficiency_df = pd.read_csv(employee_skill_proficiency_file_path)\n",
    "employees_df = pd.read_csv(employees_file_path)"
   ]
  },
  {
   "cell_type": "markdown",
   "metadata": {},
   "source": [
    "# PreProcessing and Exploratory Data Analysis"
   ]
  },
  {
   "cell_type": "markdown",
   "metadata": {},
   "source": [
    "## Courses Data"
   ]
  },
  {
   "cell_type": "code",
   "execution_count": 7,
   "metadata": {},
   "outputs": [
    {
     "data": {
      "text/html": [
       "<div>\n",
       "<style scoped>\n",
       "    .dataframe tbody tr th:only-of-type {\n",
       "        vertical-align: middle;\n",
       "    }\n",
       "\n",
       "    .dataframe tbody tr th {\n",
       "        vertical-align: top;\n",
       "    }\n",
       "\n",
       "    .dataframe thead th {\n",
       "        text-align: right;\n",
       "    }\n",
       "</style>\n",
       "<table border=\"1\" class=\"dataframe\">\n",
       "  <thead>\n",
       "    <tr style=\"text-align: right;\">\n",
       "      <th></th>\n",
       "      <th>courseid</th>\n",
       "      <th>coursename</th>\n",
       "      <th>duration</th>\n",
       "      <th>description</th>\n",
       "    </tr>\n",
       "  </thead>\n",
       "  <tbody>\n",
       "    <tr>\n",
       "      <th>1</th>\n",
       "      <td>Introduction to Data Science</td>\n",
       "      <td>4 weeks</td>\n",
       "      <td>Learn the basics of data science</td>\n",
       "      <td>including data analysis and visualization.</td>\n",
       "    </tr>\n",
       "    <tr>\n",
       "      <th>2</th>\n",
       "      <td>Machine Learning Basics</td>\n",
       "      <td>6 weeks</td>\n",
       "      <td>Understand the fundamentals of machine learnin...</td>\n",
       "      <td>NaN</td>\n",
       "    </tr>\n",
       "    <tr>\n",
       "      <th>3</th>\n",
       "      <td>Deep Learning with TensorFlow</td>\n",
       "      <td>8 weeks</td>\n",
       "      <td>A deep dive into deep learning concepts using ...</td>\n",
       "      <td>NaN</td>\n",
       "    </tr>\n",
       "    <tr>\n",
       "      <th>4</th>\n",
       "      <td>Statistical Analysis with R</td>\n",
       "      <td>5 weeks</td>\n",
       "      <td>Learn statistical methods and their applicatio...</td>\n",
       "      <td>NaN</td>\n",
       "    </tr>\n",
       "    <tr>\n",
       "      <th>5</th>\n",
       "      <td>Data Visualization with Python</td>\n",
       "      <td>3 weeks</td>\n",
       "      <td>Visualize data effectively using Python librar...</td>\n",
       "      <td>NaN</td>\n",
       "    </tr>\n",
       "  </tbody>\n",
       "</table>\n",
       "</div>"
      ],
      "text/plain": [
       "                         courseid coursename  \\\n",
       "1    Introduction to Data Science    4 weeks   \n",
       "2         Machine Learning Basics    6 weeks   \n",
       "3   Deep Learning with TensorFlow    8 weeks   \n",
       "4     Statistical Analysis with R    5 weeks   \n",
       "5  Data Visualization with Python    3 weeks   \n",
       "\n",
       "                                            duration  \\\n",
       "1                   Learn the basics of data science   \n",
       "2  Understand the fundamentals of machine learnin...   \n",
       "3  A deep dive into deep learning concepts using ...   \n",
       "4  Learn statistical methods and their applicatio...   \n",
       "5  Visualize data effectively using Python librar...   \n",
       "\n",
       "                                   description  \n",
       "1   including data analysis and visualization.  \n",
       "2                                          NaN  \n",
       "3                                          NaN  \n",
       "4                                          NaN  \n",
       "5                                          NaN  "
      ]
     },
     "execution_count": 7,
     "metadata": {},
     "output_type": "execute_result"
    }
   ],
   "source": [
    "courses_df.head()"
   ]
  },
  {
   "cell_type": "code",
   "execution_count": 8,
   "metadata": {},
   "outputs": [
    {
     "data": {
      "text/html": [
       "<div>\n",
       "<style scoped>\n",
       "    .dataframe tbody tr th:only-of-type {\n",
       "        vertical-align: middle;\n",
       "    }\n",
       "\n",
       "    .dataframe tbody tr th {\n",
       "        vertical-align: top;\n",
       "    }\n",
       "\n",
       "    .dataframe thead th {\n",
       "        text-align: right;\n",
       "    }\n",
       "</style>\n",
       "<table border=\"1\" class=\"dataframe\">\n",
       "  <thead>\n",
       "    <tr style=\"text-align: right;\">\n",
       "      <th></th>\n",
       "      <th>CourseName</th>\n",
       "      <th>CourseDuration</th>\n",
       "      <th>Description</th>\n",
       "      <th>nan</th>\n",
       "    </tr>\n",
       "  </thead>\n",
       "  <tbody>\n",
       "    <tr>\n",
       "      <th>1</th>\n",
       "      <td>Introduction to Data Science</td>\n",
       "      <td>4 weeks</td>\n",
       "      <td>Learn the basics of data science</td>\n",
       "      <td>including data analysis and visualization.</td>\n",
       "    </tr>\n",
       "    <tr>\n",
       "      <th>2</th>\n",
       "      <td>Machine Learning Basics</td>\n",
       "      <td>6 weeks</td>\n",
       "      <td>Understand the fundamentals of machine learnin...</td>\n",
       "      <td>NaN</td>\n",
       "    </tr>\n",
       "    <tr>\n",
       "      <th>3</th>\n",
       "      <td>Deep Learning with TensorFlow</td>\n",
       "      <td>8 weeks</td>\n",
       "      <td>A deep dive into deep learning concepts using ...</td>\n",
       "      <td>NaN</td>\n",
       "    </tr>\n",
       "    <tr>\n",
       "      <th>4</th>\n",
       "      <td>Statistical Analysis with R</td>\n",
       "      <td>5 weeks</td>\n",
       "      <td>Learn statistical methods and their applicatio...</td>\n",
       "      <td>NaN</td>\n",
       "    </tr>\n",
       "    <tr>\n",
       "      <th>5</th>\n",
       "      <td>Data Visualization with Python</td>\n",
       "      <td>3 weeks</td>\n",
       "      <td>Visualize data effectively using Python librar...</td>\n",
       "      <td>NaN</td>\n",
       "    </tr>\n",
       "  </tbody>\n",
       "</table>\n",
       "</div>"
      ],
      "text/plain": [
       "                       CourseName CourseDuration  \\\n",
       "1    Introduction to Data Science        4 weeks   \n",
       "2         Machine Learning Basics        6 weeks   \n",
       "3   Deep Learning with TensorFlow        8 weeks   \n",
       "4     Statistical Analysis with R        5 weeks   \n",
       "5  Data Visualization with Python        3 weeks   \n",
       "\n",
       "                                         Description  \\\n",
       "1                   Learn the basics of data science   \n",
       "2  Understand the fundamentals of machine learnin...   \n",
       "3  A deep dive into deep learning concepts using ...   \n",
       "4  Learn statistical methods and their applicatio...   \n",
       "5  Visualize data effectively using Python librar...   \n",
       "\n",
       "                                           nan  \n",
       "1   including data analysis and visualization.  \n",
       "2                                          NaN  \n",
       "3                                          NaN  \n",
       "4                                          NaN  \n",
       "5                                          NaN  "
      ]
     },
     "execution_count": 8,
     "metadata": {},
     "output_type": "execute_result"
    }
   ],
   "source": [
    "# Rename the columns \n",
    "courses_df.columns =[\"CourseName\", \"CourseDuration\", \"Description\", \"nan\"]\n",
    "courses_df.head()"
   ]
  },
  {
   "cell_type": "code",
   "execution_count": 9,
   "metadata": {},
   "outputs": [
    {
     "data": {
      "text/html": [
       "<div>\n",
       "<style scoped>\n",
       "    .dataframe tbody tr th:only-of-type {\n",
       "        vertical-align: middle;\n",
       "    }\n",
       "\n",
       "    .dataframe tbody tr th {\n",
       "        vertical-align: top;\n",
       "    }\n",
       "\n",
       "    .dataframe thead th {\n",
       "        text-align: right;\n",
       "    }\n",
       "</style>\n",
       "<table border=\"1\" class=\"dataframe\">\n",
       "  <thead>\n",
       "    <tr style=\"text-align: right;\">\n",
       "      <th></th>\n",
       "      <th>CourseName</th>\n",
       "      <th>CourseDuration</th>\n",
       "      <th>Description</th>\n",
       "    </tr>\n",
       "  </thead>\n",
       "  <tbody>\n",
       "    <tr>\n",
       "      <th>1</th>\n",
       "      <td>Introduction to Data Science</td>\n",
       "      <td>4 weeks</td>\n",
       "      <td>Learn the basics of data science</td>\n",
       "    </tr>\n",
       "    <tr>\n",
       "      <th>2</th>\n",
       "      <td>Machine Learning Basics</td>\n",
       "      <td>6 weeks</td>\n",
       "      <td>Understand the fundamentals of machine learnin...</td>\n",
       "    </tr>\n",
       "    <tr>\n",
       "      <th>3</th>\n",
       "      <td>Deep Learning with TensorFlow</td>\n",
       "      <td>8 weeks</td>\n",
       "      <td>A deep dive into deep learning concepts using ...</td>\n",
       "    </tr>\n",
       "    <tr>\n",
       "      <th>4</th>\n",
       "      <td>Statistical Analysis with R</td>\n",
       "      <td>5 weeks</td>\n",
       "      <td>Learn statistical methods and their applicatio...</td>\n",
       "    </tr>\n",
       "    <tr>\n",
       "      <th>5</th>\n",
       "      <td>Data Visualization with Python</td>\n",
       "      <td>3 weeks</td>\n",
       "      <td>Visualize data effectively using Python librar...</td>\n",
       "    </tr>\n",
       "  </tbody>\n",
       "</table>\n",
       "</div>"
      ],
      "text/plain": [
       "                       CourseName CourseDuration  \\\n",
       "1    Introduction to Data Science        4 weeks   \n",
       "2         Machine Learning Basics        6 weeks   \n",
       "3   Deep Learning with TensorFlow        8 weeks   \n",
       "4     Statistical Analysis with R        5 weeks   \n",
       "5  Data Visualization with Python        3 weeks   \n",
       "\n",
       "                                         Description  \n",
       "1                   Learn the basics of data science  \n",
       "2  Understand the fundamentals of machine learnin...  \n",
       "3  A deep dive into deep learning concepts using ...  \n",
       "4  Learn statistical methods and their applicatio...  \n",
       "5  Visualize data effectively using Python librar...  "
      ]
     },
     "execution_count": 9,
     "metadata": {},
     "output_type": "execute_result"
    }
   ],
   "source": [
    "# Drop the last column\n",
    "courses_df = courses_df.drop(columns=[\"nan\"])\n",
    "courses_df.head()"
   ]
  },
  {
   "cell_type": "code",
   "execution_count": 10,
   "metadata": {},
   "outputs": [
    {
     "data": {
      "text/html": [
       "<div>\n",
       "<style scoped>\n",
       "    .dataframe tbody tr th:only-of-type {\n",
       "        vertical-align: middle;\n",
       "    }\n",
       "\n",
       "    .dataframe tbody tr th {\n",
       "        vertical-align: top;\n",
       "    }\n",
       "\n",
       "    .dataframe thead th {\n",
       "        text-align: right;\n",
       "    }\n",
       "</style>\n",
       "<table border=\"1\" class=\"dataframe\">\n",
       "  <thead>\n",
       "    <tr style=\"text-align: right;\">\n",
       "      <th></th>\n",
       "      <th>CourseName</th>\n",
       "      <th>CourseDuration</th>\n",
       "      <th>Description</th>\n",
       "      <th>CourseID</th>\n",
       "    </tr>\n",
       "    <tr>\n",
       "      <th></th>\n",
       "      <th></th>\n",
       "      <th></th>\n",
       "      <th></th>\n",
       "      <th></th>\n",
       "    </tr>\n",
       "  </thead>\n",
       "  <tbody>\n",
       "    <tr>\n",
       "      <th>1</th>\n",
       "      <td>Introduction to Data Science</td>\n",
       "      <td>4 weeks</td>\n",
       "      <td>Learn the basics of data science</td>\n",
       "      <td>1</td>\n",
       "    </tr>\n",
       "    <tr>\n",
       "      <th>2</th>\n",
       "      <td>Machine Learning Basics</td>\n",
       "      <td>6 weeks</td>\n",
       "      <td>Understand the fundamentals of machine learnin...</td>\n",
       "      <td>2</td>\n",
       "    </tr>\n",
       "    <tr>\n",
       "      <th>3</th>\n",
       "      <td>Deep Learning with TensorFlow</td>\n",
       "      <td>8 weeks</td>\n",
       "      <td>A deep dive into deep learning concepts using ...</td>\n",
       "      <td>3</td>\n",
       "    </tr>\n",
       "    <tr>\n",
       "      <th>4</th>\n",
       "      <td>Statistical Analysis with R</td>\n",
       "      <td>5 weeks</td>\n",
       "      <td>Learn statistical methods and their applicatio...</td>\n",
       "      <td>4</td>\n",
       "    </tr>\n",
       "    <tr>\n",
       "      <th>5</th>\n",
       "      <td>Data Visualization with Python</td>\n",
       "      <td>3 weeks</td>\n",
       "      <td>Visualize data effectively using Python librar...</td>\n",
       "      <td>5</td>\n",
       "    </tr>\n",
       "  </tbody>\n",
       "</table>\n",
       "</div>"
      ],
      "text/plain": [
       "                       CourseName CourseDuration  \\\n",
       "                                                   \n",
       "1    Introduction to Data Science        4 weeks   \n",
       "2         Machine Learning Basics        6 weeks   \n",
       "3   Deep Learning with TensorFlow        8 weeks   \n",
       "4     Statistical Analysis with R        5 weeks   \n",
       "5  Data Visualization with Python        3 weeks   \n",
       "\n",
       "                                         Description  CourseID  \n",
       "                                                                \n",
       "1                   Learn the basics of data science         1  \n",
       "2  Understand the fundamentals of machine learnin...         2  \n",
       "3  A deep dive into deep learning concepts using ...         3  \n",
       "4  Learn statistical methods and their applicatio...         4  \n",
       "5  Visualize data effectively using Python librar...         5  "
      ]
     },
     "execution_count": 10,
     "metadata": {},
     "output_type": "execute_result"
    }
   ],
   "source": [
    "# Rename the index to mark it as course ID.\n",
    "courses_df[\"CourseID\"] = courses_df.index\n",
    "courses_df.index.name = \"\"\n",
    "courses_df.head()"
   ]
  },
  {
   "cell_type": "code",
   "execution_count": 11,
   "metadata": {},
   "outputs": [
    {
     "data": {
      "text/plain": [
       "np.False_"
      ]
     },
     "execution_count": 11,
     "metadata": {},
     "output_type": "execute_result"
    }
   ],
   "source": [
    "# Check the duplicates\n",
    "courses_df.duplicated().any()"
   ]
  },
  {
   "cell_type": "code",
   "execution_count": 12,
   "metadata": {},
   "outputs": [
    {
     "name": "stdout",
     "output_type": "stream",
     "text": [
      "<class 'pandas.core.frame.DataFrame'>\n",
      "Index: 30 entries, 1 to 30\n",
      "Data columns (total 4 columns):\n",
      " #   Column          Non-Null Count  Dtype \n",
      "---  ------          --------------  ----- \n",
      " 0   CourseName      30 non-null     object\n",
      " 1   CourseDuration  30 non-null     int64 \n",
      " 2   Description     30 non-null     object\n",
      " 3   CourseID        30 non-null     int64 \n",
      "dtypes: int64(2), object(2)\n",
      "memory usage: 1.2+ KB\n"
     ]
    }
   ],
   "source": [
    "# Change the course duration column to make it integer\n",
    "courses_df[\"CourseDuration\"] =  courses_df.CourseDuration.apply(lambda x : x.split()[0])\n",
    "courses_df[\"CourseDuration\"] = courses_df.CourseDuration.astype(\"int\")\n",
    "courses_df.info()"
   ]
  },
  {
   "cell_type": "code",
   "execution_count": 13,
   "metadata": {},
   "outputs": [
    {
     "data": {
      "text/html": [
       "<div>\n",
       "<style scoped>\n",
       "    .dataframe tbody tr th:only-of-type {\n",
       "        vertical-align: middle;\n",
       "    }\n",
       "\n",
       "    .dataframe tbody tr th {\n",
       "        vertical-align: top;\n",
       "    }\n",
       "\n",
       "    .dataframe thead th {\n",
       "        text-align: right;\n",
       "    }\n",
       "</style>\n",
       "<table border=\"1\" class=\"dataframe\">\n",
       "  <thead>\n",
       "    <tr style=\"text-align: right;\">\n",
       "      <th></th>\n",
       "      <th>count</th>\n",
       "      <th>mean</th>\n",
       "      <th>std</th>\n",
       "      <th>min</th>\n",
       "      <th>25%</th>\n",
       "      <th>50%</th>\n",
       "      <th>75%</th>\n",
       "      <th>max</th>\n",
       "    </tr>\n",
       "  </thead>\n",
       "  <tbody>\n",
       "    <tr>\n",
       "      <th>CourseDuration</th>\n",
       "      <td>30.0</td>\n",
       "      <td>5.0</td>\n",
       "      <td>2.034191</td>\n",
       "      <td>3.0</td>\n",
       "      <td>4.00</td>\n",
       "      <td>5.0</td>\n",
       "      <td>5.75</td>\n",
       "      <td>12.0</td>\n",
       "    </tr>\n",
       "    <tr>\n",
       "      <th>CourseID</th>\n",
       "      <td>30.0</td>\n",
       "      <td>15.5</td>\n",
       "      <td>8.803408</td>\n",
       "      <td>1.0</td>\n",
       "      <td>8.25</td>\n",
       "      <td>15.5</td>\n",
       "      <td>22.75</td>\n",
       "      <td>30.0</td>\n",
       "    </tr>\n",
       "  </tbody>\n",
       "</table>\n",
       "</div>"
      ],
      "text/plain": [
       "                count  mean       std  min   25%   50%    75%   max\n",
       "CourseDuration   30.0   5.0  2.034191  3.0  4.00   5.0   5.75  12.0\n",
       "CourseID         30.0  15.5  8.803408  1.0  8.25  15.5  22.75  30.0"
      ]
     },
     "execution_count": 13,
     "metadata": {},
     "output_type": "execute_result"
    }
   ],
   "source": [
    "courses_df.describe().T"
   ]
  },
  {
   "cell_type": "markdown",
   "metadata": {},
   "source": [
    "- The average course length is 5 weeks\n"
   ]
  },
  {
   "cell_type": "code",
   "execution_count": 14,
   "metadata": {},
   "outputs": [
    {
     "data": {
      "text/plain": [
       "Text(0.5, 1.0, 'Course Duration outliers check')"
      ]
     },
     "execution_count": 14,
     "metadata": {},
     "output_type": "execute_result"
    },
    {
     "data": {
      "image/png": "[encoded data removed]",
      "text/plain": [
       "<Figure size 1200x400 with 1 Axes>"
      ]
     },
     "metadata": {},
     "output_type": "display_data"
    }
   ],
   "source": [
    "plt.figure(figsize = (12,4))\n",
    "\n",
    "sns.boxplot(data = courses_df, x = \"CourseDuration\")\n",
    "plt.xlabel(\"Course Duration in Weeks\")\n",
    "plt.title(\"Course Duration outliers check\")"
   ]
  },
  {
   "cell_type": "markdown",
   "metadata": {},
   "source": [
    "- A few courses are marked as outliers with their length being more than 8 weeks."
   ]
  },
  {
   "cell_type": "code",
   "execution_count": 15,
   "metadata": {},
   "outputs": [
    {
     "name": "stderr",
     "output_type": "stream",
     "text": [
      "C:\\Users\\RishabhSaklani\\AppData\\Local\\Temp\\ipykernel_12452\\566144850.py:3: UserWarning: Ignoring `palette` because no `hue` variable has been assigned.\n",
      "  sns.histplot(data = courses_df, x = \"CourseDuration\", kde = True, bins = 10, palette = \"ch:start=.2,rot=-.3\")\n"
     ]
    },
    {
     "data": {
      "text/plain": [
       "Text(0.5, 1.0, 'Course Duration distribution')"
      ]
     },
     "execution_count": 15,
     "metadata": {},
     "output_type": "execute_result"
    },
    {
     "data": {
      "image/png": "[encoded data removed]",
      "text/plain": [
       "<Figure size 1200x400 with 1 Axes>"
      ]
     },
     "metadata": {},
     "output_type": "display_data"
    }
   ],
   "source": [
    "plt.figure(figsize = (12,4))\n",
    "\n",
    "sns.histplot(data = courses_df, x = \"CourseDuration\", kde = True, bins = 10, palette = \"ch:start=.2,rot=-.3\")\n",
    "plt.xlabel(\"Course Duration (in Weeks)\")\n",
    "plt.ylabel(\"Number of Courses\")\n",
    "plt.title(\"Course Duration distribution\")"
   ]
  },
  {
   "cell_type": "markdown",
   "metadata": {},
   "source": [
    "- The distribution is right skewed with most of the courses having a short span. "
   ]
  },
  {
   "cell_type": "code",
   "execution_count": 16,
   "metadata": {},
   "outputs": [
    {
     "data": {
      "text/plain": [
       "Index(['CourseName', 'CourseDuration', 'Description', 'CourseID'], dtype='object')"
      ]
     },
     "execution_count": 16,
     "metadata": {},
     "output_type": "execute_result"
    }
   ],
   "source": [
    "courses_df.columns"
   ]
  },
  {
   "cell_type": "code",
   "execution_count": 17,
   "metadata": {},
   "outputs": [
    {
     "data": {
      "text/html": [
       "<div>\n",
       "<style scoped>\n",
       "    .dataframe tbody tr th:only-of-type {\n",
       "        vertical-align: middle;\n",
       "    }\n",
       "\n",
       "    .dataframe tbody tr th {\n",
       "        vertical-align: top;\n",
       "    }\n",
       "\n",
       "    .dataframe thead th {\n",
       "        text-align: right;\n",
       "    }\n",
       "</style>\n",
       "<table border=\"1\" class=\"dataframe\">\n",
       "  <thead>\n",
       "    <tr style=\"text-align: right;\">\n",
       "      <th></th>\n",
       "      <th>CourseID</th>\n",
       "      <th>CourseName</th>\n",
       "      <th>CourseDuration</th>\n",
       "      <th>Description</th>\n",
       "    </tr>\n",
       "    <tr>\n",
       "      <th></th>\n",
       "      <th></th>\n",
       "      <th></th>\n",
       "      <th></th>\n",
       "      <th></th>\n",
       "    </tr>\n",
       "  </thead>\n",
       "  <tbody>\n",
       "    <tr>\n",
       "      <th>9</th>\n",
       "      <td>9</td>\n",
       "      <td>Data Ethics and Privacy</td>\n",
       "      <td>3</td>\n",
       "      <td>Understand the ethical implications and privac...</td>\n",
       "    </tr>\n",
       "    <tr>\n",
       "      <th>22</th>\n",
       "      <td>22</td>\n",
       "      <td>JavaScript: The Good Parts</td>\n",
       "      <td>3</td>\n",
       "      <td>Deep understanding of JavaScript and its best ...</td>\n",
       "    </tr>\n",
       "    <tr>\n",
       "      <th>15</th>\n",
       "      <td>15</td>\n",
       "      <td>Containerization with Docker</td>\n",
       "      <td>3</td>\n",
       "      <td>Learn how to use Docker to containerize applic...</td>\n",
       "    </tr>\n",
       "    <tr>\n",
       "      <th>3</th>\n",
       "      <td>3</td>\n",
       "      <td>Deep Learning with TensorFlow</td>\n",
       "      <td>8</td>\n",
       "      <td>A deep dive into deep learning concepts using ...</td>\n",
       "    </tr>\n",
       "    <tr>\n",
       "      <th>23</th>\n",
       "      <td>23</td>\n",
       "      <td>Building Web Apps with React</td>\n",
       "      <td>5</td>\n",
       "      <td>Create dynamic web applications using React.js.</td>\n",
       "    </tr>\n",
       "    <tr>\n",
       "      <th>16</th>\n",
       "      <td>16</td>\n",
       "      <td>CI/CD Pipeline Implementation</td>\n",
       "      <td>5</td>\n",
       "      <td>Understand how to implement CI/CD pipelines in...</td>\n",
       "    </tr>\n",
       "    <tr>\n",
       "      <th>18</th>\n",
       "      <td>18</td>\n",
       "      <td>Agile Project Management</td>\n",
       "      <td>3</td>\n",
       "      <td>Explore the principles and practices of Agile ...</td>\n",
       "    </tr>\n",
       "    <tr>\n",
       "      <th>4</th>\n",
       "      <td>4</td>\n",
       "      <td>Statistical Analysis with R</td>\n",
       "      <td>5</td>\n",
       "      <td>Learn statistical methods and their applicatio...</td>\n",
       "    </tr>\n",
       "    <tr>\n",
       "      <th>29</th>\n",
       "      <td>29</td>\n",
       "      <td>APIs and Microservices</td>\n",
       "      <td>4</td>\n",
       "      <td>Explore the design and development of APIs and...</td>\n",
       "    </tr>\n",
       "    <tr>\n",
       "      <th>27</th>\n",
       "      <td>27</td>\n",
       "      <td>Responsive Web Design</td>\n",
       "      <td>3</td>\n",
       "      <td>Create responsive web designs that work on mul...</td>\n",
       "    </tr>\n",
       "  </tbody>\n",
       "</table>\n",
       "</div>"
      ],
      "text/plain": [
       "    CourseID                     CourseName  CourseDuration  \\\n",
       "                                                              \n",
       "9          9        Data Ethics and Privacy               3   \n",
       "22        22     JavaScript: The Good Parts               3   \n",
       "15        15   Containerization with Docker               3   \n",
       "3          3  Deep Learning with TensorFlow               8   \n",
       "23        23   Building Web Apps with React               5   \n",
       "16        16  CI/CD Pipeline Implementation               5   \n",
       "18        18       Agile Project Management               3   \n",
       "4          4    Statistical Analysis with R               5   \n",
       "29        29         APIs and Microservices               4   \n",
       "27        27          Responsive Web Design               3   \n",
       "\n",
       "                                          Description  \n",
       "                                                       \n",
       "9   Understand the ethical implications and privac...  \n",
       "22  Deep understanding of JavaScript and its best ...  \n",
       "15  Learn how to use Docker to containerize applic...  \n",
       "3   A deep dive into deep learning concepts using ...  \n",
       "23    Create dynamic web applications using React.js.  \n",
       "16  Understand how to implement CI/CD pipelines in...  \n",
       "18  Explore the principles and practices of Agile ...  \n",
       "4   Learn statistical methods and their applicatio...  \n",
       "29  Explore the design and development of APIs and...  \n",
       "27  Create responsive web designs that work on mul...  "
      ]
     },
     "execution_count": 17,
     "metadata": {},
     "output_type": "execute_result"
    }
   ],
   "source": [
    "courses_df = courses_df[[\"CourseID\", \"CourseName\", \"CourseDuration\", \"Description\"]]\n",
    "courses_df.sample(10)"
   ]
  },
  {
   "cell_type": "markdown",
   "metadata": {},
   "source": [
    "## Skills Data "
   ]
  },
  {
   "cell_type": "code",
   "execution_count": 18,
   "metadata": {},
   "outputs": [
    {
     "data": {
      "text/html": [
       "<div>\n",
       "<style scoped>\n",
       "    .dataframe tbody tr th:only-of-type {\n",
       "        vertical-align: middle;\n",
       "    }\n",
       "\n",
       "    .dataframe tbody tr th {\n",
       "        vertical-align: top;\n",
       "    }\n",
       "\n",
       "    .dataframe thead th {\n",
       "        text-align: right;\n",
       "    }\n",
       "</style>\n",
       "<table border=\"1\" class=\"dataframe\">\n",
       "  <thead>\n",
       "    <tr style=\"text-align: right;\">\n",
       "      <th></th>\n",
       "      <th>skillid</th>\n",
       "      <th>skillname</th>\n",
       "      <th>category</th>\n",
       "    </tr>\n",
       "  </thead>\n",
       "  <tbody>\n",
       "    <tr>\n",
       "      <th>0</th>\n",
       "      <td>1</td>\n",
       "      <td>Data Analysis</td>\n",
       "      <td>Data Science</td>\n",
       "    </tr>\n",
       "    <tr>\n",
       "      <th>1</th>\n",
       "      <td>2</td>\n",
       "      <td>Machine Learning</td>\n",
       "      <td>Data Science</td>\n",
       "    </tr>\n",
       "    <tr>\n",
       "      <th>2</th>\n",
       "      <td>3</td>\n",
       "      <td>Statistical Analysis</td>\n",
       "      <td>Data Science</td>\n",
       "    </tr>\n",
       "    <tr>\n",
       "      <th>3</th>\n",
       "      <td>4</td>\n",
       "      <td>Data Visualization</td>\n",
       "      <td>Data Science</td>\n",
       "    </tr>\n",
       "    <tr>\n",
       "      <th>4</th>\n",
       "      <td>5</td>\n",
       "      <td>Deep Learning</td>\n",
       "      <td>Data Science</td>\n",
       "    </tr>\n",
       "  </tbody>\n",
       "</table>\n",
       "</div>"
      ],
      "text/plain": [
       "   skillid             skillname      category\n",
       "0        1         Data Analysis  Data Science\n",
       "1        2      Machine Learning  Data Science\n",
       "2        3  Statistical Analysis  Data Science\n",
       "3        4    Data Visualization  Data Science\n",
       "4        5         Deep Learning  Data Science"
      ]
     },
     "execution_count": 18,
     "metadata": {},
     "output_type": "execute_result"
    }
   ],
   "source": [
    "skills_df.head()"
   ]
  },
  {
   "cell_type": "code",
   "execution_count": 19,
   "metadata": {},
   "outputs": [
    {
     "data": {
      "text/html": [
       "<div>\n",
       "<style scoped>\n",
       "    .dataframe tbody tr th:only-of-type {\n",
       "        vertical-align: middle;\n",
       "    }\n",
       "\n",
       "    .dataframe tbody tr th {\n",
       "        vertical-align: top;\n",
       "    }\n",
       "\n",
       "    .dataframe thead th {\n",
       "        text-align: right;\n",
       "    }\n",
       "</style>\n",
       "<table border=\"1\" class=\"dataframe\">\n",
       "  <thead>\n",
       "    <tr style=\"text-align: right;\">\n",
       "      <th></th>\n",
       "      <th>skillname</th>\n",
       "      <th>category</th>\n",
       "    </tr>\n",
       "    <tr>\n",
       "      <th>skillid</th>\n",
       "      <th></th>\n",
       "      <th></th>\n",
       "    </tr>\n",
       "  </thead>\n",
       "  <tbody>\n",
       "    <tr>\n",
       "      <th>1</th>\n",
       "      <td>Data Analysis</td>\n",
       "      <td>Data Science</td>\n",
       "    </tr>\n",
       "    <tr>\n",
       "      <th>2</th>\n",
       "      <td>Machine Learning</td>\n",
       "      <td>Data Science</td>\n",
       "    </tr>\n",
       "    <tr>\n",
       "      <th>3</th>\n",
       "      <td>Statistical Analysis</td>\n",
       "      <td>Data Science</td>\n",
       "    </tr>\n",
       "    <tr>\n",
       "      <th>4</th>\n",
       "      <td>Data Visualization</td>\n",
       "      <td>Data Science</td>\n",
       "    </tr>\n",
       "    <tr>\n",
       "      <th>5</th>\n",
       "      <td>Deep Learning</td>\n",
       "      <td>Data Science</td>\n",
       "    </tr>\n",
       "  </tbody>\n",
       "</table>\n",
       "</div>"
      ],
      "text/plain": [
       "                    skillname      category\n",
       "skillid                                    \n",
       "1               Data Analysis  Data Science\n",
       "2            Machine Learning  Data Science\n",
       "3        Statistical Analysis  Data Science\n",
       "4          Data Visualization  Data Science\n",
       "5               Deep Learning  Data Science"
      ]
     },
     "execution_count": 19,
     "metadata": {},
     "output_type": "execute_result"
    }
   ],
   "source": [
    "skills_df = skills_df.set_index(\"skillid\")\n",
    "skills_df.head()"
   ]
  },
  {
   "cell_type": "code",
   "execution_count": 20,
   "metadata": {},
   "outputs": [
    {
     "data": {
      "text/plain": [
       "skillname    0\n",
       "category     0\n",
       "dtype: int64"
      ]
     },
     "execution_count": 20,
     "metadata": {},
     "output_type": "execute_result"
    }
   ],
   "source": [
    "# check null \n",
    "skills_df.isnull().sum()"
   ]
  },
  {
   "cell_type": "code",
   "execution_count": 21,
   "metadata": {},
   "outputs": [
    {
     "data": {
      "text/plain": [
       "np.False_"
      ]
     },
     "execution_count": 21,
     "metadata": {},
     "output_type": "execute_result"
    }
   ],
   "source": [
    "skills_df.duplicated().any()"
   ]
  },
  {
   "cell_type": "code",
   "execution_count": 22,
   "metadata": {},
   "outputs": [
    {
     "data": {
      "text/html": [
       "<div>\n",
       "<style scoped>\n",
       "    .dataframe tbody tr th:only-of-type {\n",
       "        vertical-align: middle;\n",
       "    }\n",
       "\n",
       "    .dataframe tbody tr th {\n",
       "        vertical-align: top;\n",
       "    }\n",
       "\n",
       "    .dataframe thead th {\n",
       "        text-align: right;\n",
       "    }\n",
       "</style>\n",
       "<table border=\"1\" class=\"dataframe\">\n",
       "  <thead>\n",
       "    <tr style=\"text-align: right;\">\n",
       "      <th></th>\n",
       "      <th>skillname</th>\n",
       "      <th>category</th>\n",
       "    </tr>\n",
       "    <tr>\n",
       "      <th>skillid</th>\n",
       "      <th></th>\n",
       "      <th></th>\n",
       "    </tr>\n",
       "  </thead>\n",
       "  <tbody>\n",
       "    <tr>\n",
       "      <th>37</th>\n",
       "      <td>Database Management Systems</td>\n",
       "      <td>Full Stack</td>\n",
       "    </tr>\n",
       "    <tr>\n",
       "      <th>31</th>\n",
       "      <td>HTML &amp; CSS</td>\n",
       "      <td>Full Stack</td>\n",
       "    </tr>\n",
       "    <tr>\n",
       "      <th>34</th>\n",
       "      <td>Node.js</td>\n",
       "      <td>Full Stack</td>\n",
       "    </tr>\n",
       "    <tr>\n",
       "      <th>25</th>\n",
       "      <td>Serverless Architecture</td>\n",
       "      <td>TechOps</td>\n",
       "    </tr>\n",
       "    <tr>\n",
       "      <th>16</th>\n",
       "      <td>Cloud Computing</td>\n",
       "      <td>TechOps</td>\n",
       "    </tr>\n",
       "    <tr>\n",
       "      <th>21</th>\n",
       "      <td>CI/CD Pipeline Implementation</td>\n",
       "      <td>TechOps</td>\n",
       "    </tr>\n",
       "    <tr>\n",
       "      <th>42</th>\n",
       "      <td>Angular</td>\n",
       "      <td>Full Stack</td>\n",
       "    </tr>\n",
       "    <tr>\n",
       "      <th>49</th>\n",
       "      <td>Deployment Strategies</td>\n",
       "      <td>Full Stack</td>\n",
       "    </tr>\n",
       "    <tr>\n",
       "      <th>10</th>\n",
       "      <td>Time Series Analysis</td>\n",
       "      <td>Data Science</td>\n",
       "    </tr>\n",
       "    <tr>\n",
       "      <th>46</th>\n",
       "      <td>Web Accessibility</td>\n",
       "      <td>Full Stack</td>\n",
       "    </tr>\n",
       "  </tbody>\n",
       "</table>\n",
       "</div>"
      ],
      "text/plain": [
       "                             skillname      category\n",
       "skillid                                             \n",
       "37         Database Management Systems    Full Stack\n",
       "31                          HTML & CSS    Full Stack\n",
       "34                             Node.js    Full Stack\n",
       "25             Serverless Architecture       TechOps\n",
       "16                     Cloud Computing       TechOps\n",
       "21       CI/CD Pipeline Implementation       TechOps\n",
       "42                             Angular    Full Stack\n",
       "49               Deployment Strategies    Full Stack\n",
       "10                Time Series Analysis  Data Science\n",
       "46                   Web Accessibility    Full Stack"
      ]
     },
     "execution_count": 22,
     "metadata": {},
     "output_type": "execute_result"
    }
   ],
   "source": [
    "skills_df.sample(10)"
   ]
  },
  {
   "cell_type": "code",
   "execution_count": 23,
   "metadata": {},
   "outputs": [
    {
     "name": "stderr",
     "output_type": "stream",
     "text": [
      "C:\\Users\\RishabhSaklani\\AppData\\Local\\Temp\\ipykernel_12452\\2859084106.py:4: FutureWarning: \n",
      "\n",
      "Passing `palette` without assigning `hue` is deprecated and will be removed in v0.14.0. Assign the `y` variable to `hue` and set `legend=False` for the same effect.\n",
      "\n",
      "  sns.countplot(data = skills_df, y = \"category\", palette = \"ch:start=.2,rot=-.3\")\n"
     ]
    },
    {
     "data": {
      "text/plain": [
       "Text(0.5, 0, 'Course Count')"
      ]
     },
     "execution_count": 23,
     "metadata": {},
     "output_type": "execute_result"
    },
    {
     "data": {
      "image/png": "[encoded data removed]",
      "text/plain": [
       "<Figure size 800x400 with 1 Axes>"
      ]
     },
     "metadata": {},
     "output_type": "display_data"
    }
   ],
   "source": [
    "# Count plot for courses type \n",
    "plt.figure(figsize = (8,4))\n",
    "\n",
    "sns.countplot(data = skills_df, y = \"category\", palette = \"ch:start=.2,rot=-.3\")\n",
    "plt.title(\"Number of Courses per Category\")\n",
    "plt.ylabel(\"Course Category\")\n",
    "plt.xlabel(\"Course Count\")"
   ]
  },
  {
   "cell_type": "code",
   "execution_count": 24,
   "metadata": {},
   "outputs": [],
   "source": [
    "skills_df = skills_df.reset_index()"
   ]
  },
  {
   "cell_type": "markdown",
   "metadata": {},
   "source": [
    "## Course Skill Mapping"
   ]
  },
  {
   "cell_type": "code",
   "execution_count": 25,
   "metadata": {},
   "outputs": [
    {
     "data": {
      "text/html": [
       "<div>\n",
       "<style scoped>\n",
       "    .dataframe tbody tr th:only-of-type {\n",
       "        vertical-align: middle;\n",
       "    }\n",
       "\n",
       "    .dataframe tbody tr th {\n",
       "        vertical-align: top;\n",
       "    }\n",
       "\n",
       "    .dataframe thead th {\n",
       "        text-align: right;\n",
       "    }\n",
       "</style>\n",
       "<table border=\"1\" class=\"dataframe\">\n",
       "  <thead>\n",
       "    <tr style=\"text-align: right;\">\n",
       "      <th></th>\n",
       "      <th>courseid</th>\n",
       "      <th>skillid</th>\n",
       "    </tr>\n",
       "  </thead>\n",
       "  <tbody>\n",
       "    <tr>\n",
       "      <th>0</th>\n",
       "      <td>1</td>\n",
       "      <td>1  -- Introduction to Data Science -&gt; Data Ana...</td>\n",
       "    </tr>\n",
       "    <tr>\n",
       "      <th>1</th>\n",
       "      <td>1</td>\n",
       "      <td>2  -- Introduction to Data Science -&gt; Machine ...</td>\n",
       "    </tr>\n",
       "    <tr>\n",
       "      <th>2</th>\n",
       "      <td>1</td>\n",
       "      <td>4  -- Introduction to Data Science -&gt; Data Vis...</td>\n",
       "    </tr>\n",
       "    <tr>\n",
       "      <th>3</th>\n",
       "      <td>1</td>\n",
       "      <td>6  -- Introduction to Data Science -&gt; Data Sci...</td>\n",
       "    </tr>\n",
       "    <tr>\n",
       "      <th>4</th>\n",
       "      <td>1</td>\n",
       "      <td>8  -- Introduction to Data Science -&gt; Introduc...</td>\n",
       "    </tr>\n",
       "  </tbody>\n",
       "</table>\n",
       "</div>"
      ],
      "text/plain": [
       "   courseid                                            skillid\n",
       "0         1  1  -- Introduction to Data Science -> Data Ana...\n",
       "1         1  2  -- Introduction to Data Science -> Machine ...\n",
       "2         1  4  -- Introduction to Data Science -> Data Vis...\n",
       "3         1  6  -- Introduction to Data Science -> Data Sci...\n",
       "4         1  8  -- Introduction to Data Science -> Introduc..."
      ]
     },
     "execution_count": 25,
     "metadata": {},
     "output_type": "execute_result"
    }
   ],
   "source": [
    "course_skill_df.head()"
   ]
  },
  {
   "cell_type": "code",
   "execution_count": 26,
   "metadata": {},
   "outputs": [
    {
     "data": {
      "text/plain": [
       "courseid    0\n",
       "skillid     0\n",
       "dtype: int64"
      ]
     },
     "execution_count": 26,
     "metadata": {},
     "output_type": "execute_result"
    }
   ],
   "source": [
    "# check for null and duplicated\n",
    "course_skill_df.isnull().sum()"
   ]
  },
  {
   "cell_type": "code",
   "execution_count": 27,
   "metadata": {},
   "outputs": [
    {
     "data": {
      "text/plain": [
       "np.False_"
      ]
     },
     "execution_count": 27,
     "metadata": {},
     "output_type": "execute_result"
    }
   ],
   "source": [
    "course_skill_df.duplicated().any()"
   ]
  },
  {
   "cell_type": "code",
   "execution_count": 28,
   "metadata": {},
   "outputs": [
    {
     "name": "stdout",
     "output_type": "stream",
     "text": [
      "<class 'pandas.core.frame.DataFrame'>\n",
      "RangeIndex: 66 entries, 0 to 65\n",
      "Data columns (total 2 columns):\n",
      " #   Column    Non-Null Count  Dtype \n",
      "---  ------    --------------  ----- \n",
      " 0   courseid  66 non-null     int64 \n",
      " 1   skillid   66 non-null     object\n",
      "dtypes: int64(1), object(1)\n",
      "memory usage: 1.2+ KB\n"
     ]
    }
   ],
   "source": [
    "course_skill_df.info()"
   ]
  },
  {
   "cell_type": "code",
   "execution_count": 29,
   "metadata": {},
   "outputs": [
    {
     "data": {
      "text/html": [
       "<div>\n",
       "<style scoped>\n",
       "    .dataframe tbody tr th:only-of-type {\n",
       "        vertical-align: middle;\n",
       "    }\n",
       "\n",
       "    .dataframe tbody tr th {\n",
       "        vertical-align: top;\n",
       "    }\n",
       "\n",
       "    .dataframe thead th {\n",
       "        text-align: right;\n",
       "    }\n",
       "</style>\n",
       "<table border=\"1\" class=\"dataframe\">\n",
       "  <thead>\n",
       "    <tr style=\"text-align: right;\">\n",
       "      <th></th>\n",
       "      <th>courseid</th>\n",
       "      <th>skillid</th>\n",
       "    </tr>\n",
       "  </thead>\n",
       "  <tbody>\n",
       "    <tr>\n",
       "      <th>40</th>\n",
       "      <td>14</td>\n",
       "      <td>14</td>\n",
       "    </tr>\n",
       "    <tr>\n",
       "      <th>34</th>\n",
       "      <td>11</td>\n",
       "      <td>11</td>\n",
       "    </tr>\n",
       "    <tr>\n",
       "      <th>3</th>\n",
       "      <td>1</td>\n",
       "      <td>6</td>\n",
       "    </tr>\n",
       "    <tr>\n",
       "      <th>19</th>\n",
       "      <td>5</td>\n",
       "      <td>4</td>\n",
       "    </tr>\n",
       "    <tr>\n",
       "      <th>28</th>\n",
       "      <td>8</td>\n",
       "      <td>8</td>\n",
       "    </tr>\n",
       "    <tr>\n",
       "      <th>61</th>\n",
       "      <td>27</td>\n",
       "      <td>36</td>\n",
       "    </tr>\n",
       "    <tr>\n",
       "      <th>58</th>\n",
       "      <td>25</td>\n",
       "      <td>35</td>\n",
       "    </tr>\n",
       "    <tr>\n",
       "      <th>52</th>\n",
       "      <td>21</td>\n",
       "      <td>23</td>\n",
       "    </tr>\n",
       "    <tr>\n",
       "      <th>36</th>\n",
       "      <td>12</td>\n",
       "      <td>17</td>\n",
       "    </tr>\n",
       "    <tr>\n",
       "      <th>60</th>\n",
       "      <td>26</td>\n",
       "      <td>31</td>\n",
       "    </tr>\n",
       "  </tbody>\n",
       "</table>\n",
       "</div>"
      ],
      "text/plain": [
       "    courseid  skillid\n",
       "40        14       14\n",
       "34        11       11\n",
       "3          1        6\n",
       "19         5        4\n",
       "28         8        8\n",
       "61        27       36\n",
       "58        25       35\n",
       "52        21       23\n",
       "36        12       17\n",
       "60        26       31"
      ]
     },
     "execution_count": 29,
     "metadata": {},
     "output_type": "execute_result"
    }
   ],
   "source": [
    "# Clean the skillid column\n",
    "course_skill_df[\"skillid\"] = course_skill_df.skillid.apply(lambda x : x.replace(\"--\" , \"\"))\n",
    "course_skill_df[\"skillid\"] = course_skill_df.skillid.apply(lambda x : x.replace(\"->\" , \"\"))\n",
    "course_skill_df[\"skillid\"] = course_skill_df.skillid.apply(lambda x : x.split()[0]).astype(\"int\")\n",
    "course_skill_df.sample(10)"
   ]
  },
  {
   "cell_type": "markdown",
   "metadata": {},
   "source": [
    "## Employee Skill Proficiency Data"
   ]
  },
  {
   "cell_type": "code",
   "execution_count": 30,
   "metadata": {},
   "outputs": [
    {
     "data": {
      "text/html": [
       "<div>\n",
       "<style scoped>\n",
       "    .dataframe tbody tr th:only-of-type {\n",
       "        vertical-align: middle;\n",
       "    }\n",
       "\n",
       "    .dataframe tbody tr th {\n",
       "        vertical-align: top;\n",
       "    }\n",
       "\n",
       "    .dataframe thead th {\n",
       "        text-align: right;\n",
       "    }\n",
       "</style>\n",
       "<table border=\"1\" class=\"dataframe\">\n",
       "  <thead>\n",
       "    <tr style=\"text-align: right;\">\n",
       "      <th></th>\n",
       "      <th>empid</th>\n",
       "      <th>skillid</th>\n",
       "      <th>proficiency</th>\n",
       "    </tr>\n",
       "  </thead>\n",
       "  <tbody>\n",
       "    <tr>\n",
       "      <th>0</th>\n",
       "      <td>1</td>\n",
       "      <td>1</td>\n",
       "      <td>5  -- Data Analysis</td>\n",
       "    </tr>\n",
       "    <tr>\n",
       "      <th>1</th>\n",
       "      <td>1</td>\n",
       "      <td>2</td>\n",
       "      <td>4  -- Machine Learning</td>\n",
       "    </tr>\n",
       "    <tr>\n",
       "      <th>2</th>\n",
       "      <td>1</td>\n",
       "      <td>3</td>\n",
       "      <td>3  -- Statistical Analysis</td>\n",
       "    </tr>\n",
       "    <tr>\n",
       "      <th>3</th>\n",
       "      <td>1</td>\n",
       "      <td>4</td>\n",
       "      <td>5  -- Data Visualization</td>\n",
       "    </tr>\n",
       "    <tr>\n",
       "      <th>4</th>\n",
       "      <td>1</td>\n",
       "      <td>5</td>\n",
       "      <td>4  -- Deep Learning</td>\n",
       "    </tr>\n",
       "    <tr>\n",
       "      <th>5</th>\n",
       "      <td>2</td>\n",
       "      <td>1</td>\n",
       "      <td>4  -- Data Analysis</td>\n",
       "    </tr>\n",
       "    <tr>\n",
       "      <th>6</th>\n",
       "      <td>2</td>\n",
       "      <td>2</td>\n",
       "      <td>5  -- Machine Learning</td>\n",
       "    </tr>\n",
       "    <tr>\n",
       "      <th>7</th>\n",
       "      <td>2</td>\n",
       "      <td>3</td>\n",
       "      <td>4  -- Statistical Analysis</td>\n",
       "    </tr>\n",
       "    <tr>\n",
       "      <th>8</th>\n",
       "      <td>2</td>\n",
       "      <td>4</td>\n",
       "      <td>3  -- Data Visualization</td>\n",
       "    </tr>\n",
       "    <tr>\n",
       "      <th>9</th>\n",
       "      <td>2</td>\n",
       "      <td>11</td>\n",
       "      <td>5 -- Data Mining</td>\n",
       "    </tr>\n",
       "  </tbody>\n",
       "</table>\n",
       "</div>"
      ],
      "text/plain": [
       "  empid skillid                 proficiency\n",
       "0     1       1         5  -- Data Analysis\n",
       "1     1       2      4  -- Machine Learning\n",
       "2     1       3  3  -- Statistical Analysis\n",
       "3     1       4    5  -- Data Visualization\n",
       "4     1       5         4  -- Deep Learning\n",
       "5     2       1         4  -- Data Analysis\n",
       "6     2       2      5  -- Machine Learning\n",
       "7     2       3  4  -- Statistical Analysis\n",
       "8     2       4    3  -- Data Visualization\n",
       "9     2      11            5 -- Data Mining"
      ]
     },
     "execution_count": 30,
     "metadata": {},
     "output_type": "execute_result"
    }
   ],
   "source": [
    "employee_skill_proficiency_df.head(10)"
   ]
  },
  {
   "cell_type": "code",
   "execution_count": 31,
   "metadata": {},
   "outputs": [
    {
     "name": "stdout",
     "output_type": "stream",
     "text": [
      "<class 'pandas.core.frame.DataFrame'>\n",
      "RangeIndex: 428 entries, 0 to 427\n",
      "Data columns (total 3 columns):\n",
      " #   Column       Non-Null Count  Dtype \n",
      "---  ------       --------------  ----- \n",
      " 0   empid        428 non-null    object\n",
      " 1   skillid      428 non-null    object\n",
      " 2   proficiency  428 non-null    object\n",
      "dtypes: object(3)\n",
      "memory usage: 10.2+ KB\n"
     ]
    }
   ],
   "source": [
    "employee_skill_proficiency_df.info()"
   ]
  },
  {
   "cell_type": "code",
   "execution_count": 32,
   "metadata": {},
   "outputs": [
    {
     "data": {
      "text/plain": [
       "np.False_"
      ]
     },
     "execution_count": 32,
     "metadata": {},
     "output_type": "execute_result"
    }
   ],
   "source": [
    "employee_skill_proficiency_df.duplicated().any()"
   ]
  },
  {
   "cell_type": "code",
   "execution_count": 33,
   "metadata": {},
   "outputs": [
    {
     "data": {
      "text/html": [
       "<div>\n",
       "<style scoped>\n",
       "    .dataframe tbody tr th:only-of-type {\n",
       "        vertical-align: middle;\n",
       "    }\n",
       "\n",
       "    .dataframe tbody tr th {\n",
       "        vertical-align: top;\n",
       "    }\n",
       "\n",
       "    .dataframe thead th {\n",
       "        text-align: right;\n",
       "    }\n",
       "</style>\n",
       "<table border=\"1\" class=\"dataframe\">\n",
       "  <thead>\n",
       "    <tr style=\"text-align: right;\">\n",
       "      <th></th>\n",
       "      <th>empid</th>\n",
       "      <th>skillid</th>\n",
       "      <th>proficiency</th>\n",
       "    </tr>\n",
       "  </thead>\n",
       "  <tbody>\n",
       "    <tr>\n",
       "      <th>150</th>\n",
       "      <td>34</td>\n",
       "      <td>2</td>\n",
       "      <td>2  -- Machine Learning</td>\n",
       "    </tr>\n",
       "    <tr>\n",
       "      <th>40</th>\n",
       "      <td>9</td>\n",
       "      <td>1</td>\n",
       "      <td>4  -- Data Analysis</td>\n",
       "    </tr>\n",
       "    <tr>\n",
       "      <th>403</th>\n",
       "      <td>6</td>\n",
       "      <td>32</td>\n",
       "      <td>2  -- JavaScript</td>\n",
       "    </tr>\n",
       "    <tr>\n",
       "      <th>279</th>\n",
       "      <td>6</td>\n",
       "      <td>16</td>\n",
       "      <td>3  -- Cloud Computing</td>\n",
       "    </tr>\n",
       "    <tr>\n",
       "      <th>354</th>\n",
       "      <td>47</td>\n",
       "      <td>31</td>\n",
       "      <td>3  -- HTML/CSS</td>\n",
       "    </tr>\n",
       "    <tr>\n",
       "      <th>420</th>\n",
       "      <td>12</td>\n",
       "      <td>33</td>\n",
       "      <td>2  -- Node.js</td>\n",
       "    </tr>\n",
       "    <tr>\n",
       "      <th>31</th>\n",
       "      <td>7</td>\n",
       "      <td>2</td>\n",
       "      <td>3  -- Machine Learning</td>\n",
       "    </tr>\n",
       "    <tr>\n",
       "      <th>248</th>\n",
       "      <td>37</td>\n",
       "      <td>20</td>\n",
       "      <td>1  -- Containerization</td>\n",
       "    </tr>\n",
       "    <tr>\n",
       "      <th>214</th>\n",
       "      <td>26</td>\n",
       "      <td>19</td>\n",
       "      <td>3  -- Network Security</td>\n",
       "    </tr>\n",
       "    <tr>\n",
       "      <th>174</th>\n",
       "      <td>42</td>\n",
       "      <td>3</td>\n",
       "      <td>1  -- Statistical Analysis</td>\n",
       "    </tr>\n",
       "  </tbody>\n",
       "</table>\n",
       "</div>"
      ],
      "text/plain": [
       "    empid skillid                 proficiency\n",
       "150    34       2      2  -- Machine Learning\n",
       "40      9       1         4  -- Data Analysis\n",
       "403     6      32            2  -- JavaScript\n",
       "279     6      16       3  -- Cloud Computing\n",
       "354    47      31              3  -- HTML/CSS\n",
       "420    12      33               2  -- Node.js\n",
       "31      7       2      3  -- Machine Learning\n",
       "248    37      20      1  -- Containerization\n",
       "214    26      19      3  -- Network Security\n",
       "174    42       3  1  -- Statistical Analysis"
      ]
     },
     "execution_count": 33,
     "metadata": {},
     "output_type": "execute_result"
    }
   ],
   "source": [
    "employee_skill_proficiency_df.sample(10)"
   ]
  },
  {
   "cell_type": "code",
   "execution_count": 34,
   "metadata": {},
   "outputs": [],
   "source": [
    "# Invalid entry\n",
    "employee_skill_proficiency_df.drop(index = 260, inplace = True)"
   ]
  },
  {
   "cell_type": "code",
   "execution_count": 35,
   "metadata": {},
   "outputs": [],
   "source": [
    "employee_skill_proficiency_df[\"proficiency\"] = employee_skill_proficiency_df.proficiency.apply(lambda x : x.split(\"--\")[0].strip()).astype(\"int\")"
   ]
  },
  {
   "cell_type": "code",
   "execution_count": 36,
   "metadata": {},
   "outputs": [
    {
     "data": {
      "text/plain": [
       "Text(0.5, 0, 'Skill Proficiency')"
      ]
     },
     "execution_count": 36,
     "metadata": {},
     "output_type": "execute_result"
    },
    {
     "data": {
      "image/png": "[encoded data removed]",
      "text/plain": [
       "<Figure size 1200x500 with 1 Axes>"
      ]
     },
     "metadata": {},
     "output_type": "display_data"
    }
   ],
   "source": [
    "plt.figure(figsize = (12,5))\n",
    "\n",
    "sns.histplot(data = employee_skill_proficiency_df, x = \"proficiency\", kde = True, bins = 5)\n",
    "plt.title(\"Skill Proficiency Distribution\")\n",
    "plt.xlabel(\"Skill Proficiency\")"
   ]
  },
  {
   "cell_type": "markdown",
   "metadata": {},
   "source": [
    "## Assessments Data"
   ]
  },
  {
   "cell_type": "code",
   "execution_count": 37,
   "metadata": {},
   "outputs": [
    {
     "data": {
      "text/html": [
       "<div>\n",
       "<style scoped>\n",
       "    .dataframe tbody tr th:only-of-type {\n",
       "        vertical-align: middle;\n",
       "    }\n",
       "\n",
       "    .dataframe tbody tr th {\n",
       "        vertical-align: top;\n",
       "    }\n",
       "\n",
       "    .dataframe thead th {\n",
       "        text-align: right;\n",
       "    }\n",
       "</style>\n",
       "<table border=\"1\" class=\"dataframe\">\n",
       "  <thead>\n",
       "    <tr style=\"text-align: right;\">\n",
       "      <th></th>\n",
       "      <th>assessmentid</th>\n",
       "      <th>empid</th>\n",
       "      <th>courseid</th>\n",
       "      <th>skillid</th>\n",
       "      <th>assessment_score</th>\n",
       "      <th>max_score</th>\n",
       "      <th>due_date</th>\n",
       "      <th>test_taken</th>\n",
       "      <th>test_completed</th>\n",
       "    </tr>\n",
       "  </thead>\n",
       "  <tbody>\n",
       "    <tr>\n",
       "      <th>70</th>\n",
       "      <td>38</td>\n",
       "      <td>15.0</td>\n",
       "      <td>16</td>\n",
       "      <td>30</td>\n",
       "      <td>80.0</td>\n",
       "      <td>100</td>\n",
       "      <td>2024-12-31</td>\n",
       "      <td>2024-11-12</td>\n",
       "      <td>2024-11-27</td>\n",
       "    </tr>\n",
       "    <tr>\n",
       "      <th>82</th>\n",
       "      <td>50</td>\n",
       "      <td>8.0</td>\n",
       "      <td>8</td>\n",
       "      <td>16</td>\n",
       "      <td>95.0</td>\n",
       "      <td>100</td>\n",
       "      <td>2024-12-31</td>\n",
       "      <td>2024-11-03</td>\n",
       "      <td>2024-11-18</td>\n",
       "    </tr>\n",
       "    <tr>\n",
       "      <th>87</th>\n",
       "      <td>55</td>\n",
       "      <td>13.0</td>\n",
       "      <td>13</td>\n",
       "      <td>28</td>\n",
       "      <td>88.0</td>\n",
       "      <td>100</td>\n",
       "      <td>2024-12-31</td>\n",
       "      <td>2024-11-17</td>\n",
       "      <td>2024-12-02</td>\n",
       "    </tr>\n",
       "    <tr>\n",
       "      <th>74</th>\n",
       "      <td>42</td>\n",
       "      <td>19.0</td>\n",
       "      <td>20</td>\n",
       "      <td>22</td>\n",
       "      <td>93.0</td>\n",
       "      <td>100</td>\n",
       "      <td>2024-12-31</td>\n",
       "      <td>2024-11-16</td>\n",
       "      <td>2024-12-01</td>\n",
       "    </tr>\n",
       "    <tr>\n",
       "      <th>43</th>\n",
       "      <td>11</td>\n",
       "      <td>7.0</td>\n",
       "      <td>4</td>\n",
       "      <td>8</td>\n",
       "      <td>88.0</td>\n",
       "      <td>100</td>\n",
       "      <td>2024-12-31</td>\n",
       "      <td>2024-11-03</td>\n",
       "      <td>2024-11-18</td>\n",
       "    </tr>\n",
       "    <tr>\n",
       "      <th>52</th>\n",
       "      <td>20</td>\n",
       "      <td>15.0</td>\n",
       "      <td>10</td>\n",
       "      <td>22</td>\n",
       "      <td>88.0</td>\n",
       "      <td>100</td>\n",
       "      <td>2024-12-31</td>\n",
       "      <td>2024-11-01</td>\n",
       "      <td>2024-11-15</td>\n",
       "    </tr>\n",
       "    <tr>\n",
       "      <th>83</th>\n",
       "      <td>51</td>\n",
       "      <td>9.0</td>\n",
       "      <td>9</td>\n",
       "      <td>19</td>\n",
       "      <td>82.0</td>\n",
       "      <td>100</td>\n",
       "      <td>2024-12-31</td>\n",
       "      <td>2024-11-07</td>\n",
       "      <td>2024-11-23</td>\n",
       "    </tr>\n",
       "    <tr>\n",
       "      <th>47</th>\n",
       "      <td>15</td>\n",
       "      <td>10.0</td>\n",
       "      <td>6</td>\n",
       "      <td>12</td>\n",
       "      <td>65.0</td>\n",
       "      <td>100</td>\n",
       "      <td>2024-12-31</td>\n",
       "      <td>2024-11-05</td>\n",
       "      <td>2024-11-20</td>\n",
       "    </tr>\n",
       "    <tr>\n",
       "      <th>61</th>\n",
       "      <td>29</td>\n",
       "      <td>6.0</td>\n",
       "      <td>7</td>\n",
       "      <td>14</td>\n",
       "      <td>79.0</td>\n",
       "      <td>100</td>\n",
       "      <td>2024-12-31</td>\n",
       "      <td>2024-11-03</td>\n",
       "      <td>2024-11-18</td>\n",
       "    </tr>\n",
       "    <tr>\n",
       "      <th>10</th>\n",
       "      <td>11</td>\n",
       "      <td>7.0</td>\n",
       "      <td>4</td>\n",
       "      <td>8</td>\n",
       "      <td>NaN</td>\n",
       "      <td>100</td>\n",
       "      <td>NaN</td>\n",
       "      <td>NaN</td>\n",
       "      <td>NaN</td>\n",
       "    </tr>\n",
       "  </tbody>\n",
       "</table>\n",
       "</div>"
      ],
      "text/plain": [
       "    assessmentid  empid  courseid  skillid  assessment_score  max_score  \\\n",
       "70            38   15.0        16       30              80.0        100   \n",
       "82            50    8.0         8       16              95.0        100   \n",
       "87            55   13.0        13       28              88.0        100   \n",
       "74            42   19.0        20       22              93.0        100   \n",
       "43            11    7.0         4        8              88.0        100   \n",
       "52            20   15.0        10       22              88.0        100   \n",
       "83            51    9.0         9       19              82.0        100   \n",
       "47            15   10.0         6       12              65.0        100   \n",
       "61            29    6.0         7       14              79.0        100   \n",
       "10            11    7.0         4        8               NaN        100   \n",
       "\n",
       "      due_date  test_taken test_completed  \n",
       "70  2024-12-31  2024-11-12     2024-11-27  \n",
       "82  2024-12-31  2024-11-03     2024-11-18  \n",
       "87  2024-12-31  2024-11-17     2024-12-02  \n",
       "74  2024-12-31  2024-11-16     2024-12-01  \n",
       "43  2024-12-31  2024-11-03     2024-11-18  \n",
       "52  2024-12-31  2024-11-01     2024-11-15  \n",
       "83  2024-12-31  2024-11-07     2024-11-23  \n",
       "47  2024-12-31  2024-11-05     2024-11-20  \n",
       "61  2024-12-31  2024-11-03     2024-11-18  \n",
       "10         NaN         NaN            NaN  "
      ]
     },
     "execution_count": 37,
     "metadata": {},
     "output_type": "execute_result"
    }
   ],
   "source": [
    "assessments_df.sample(10)"
   ]
  },
  {
   "cell_type": "code",
   "execution_count": 38,
   "metadata": {},
   "outputs": [
    {
     "name": "stdout",
     "output_type": "stream",
     "text": [
      "<class 'pandas.core.frame.DataFrame'>\n",
      "RangeIndex: 94 entries, 0 to 93\n",
      "Data columns (total 9 columns):\n",
      " #   Column            Non-Null Count  Dtype  \n",
      "---  ------            --------------  -----  \n",
      " 0   assessmentid      94 non-null     int64  \n",
      " 1   empid             84 non-null     float64\n",
      " 2   courseid          94 non-null     int64  \n",
      " 3   skillid           94 non-null     int64  \n",
      " 4   assessment_score  80 non-null     float64\n",
      " 5   max_score         94 non-null     int64  \n",
      " 6   due_date          80 non-null     object \n",
      " 7   test_taken        80 non-null     object \n",
      " 8   test_completed    80 non-null     object \n",
      "dtypes: float64(2), int64(4), object(3)\n",
      "memory usage: 6.7+ KB\n"
     ]
    }
   ],
   "source": [
    "assessments_df.info()"
   ]
  },
  {
   "cell_type": "code",
   "execution_count": 39,
   "metadata": {},
   "outputs": [
    {
     "data": {
      "text/plain": [
       "assessmentid         0\n",
       "empid               10\n",
       "courseid             0\n",
       "skillid              0\n",
       "assessment_score    14\n",
       "max_score            0\n",
       "due_date            14\n",
       "test_taken          14\n",
       "test_completed      14\n",
       "dtype: int64"
      ]
     },
     "execution_count": 39,
     "metadata": {},
     "output_type": "execute_result"
    }
   ],
   "source": [
    "assessments_df.isnull().sum()"
   ]
  },
  {
   "cell_type": "code",
   "execution_count": 40,
   "metadata": {},
   "outputs": [
    {
     "data": {
      "text/plain": [
       "np.int64(6)"
      ]
     },
     "execution_count": 40,
     "metadata": {},
     "output_type": "execute_result"
    }
   ],
   "source": [
    "assessments_df.duplicated().sum()"
   ]
  },
  {
   "cell_type": "code",
   "execution_count": 41,
   "metadata": {},
   "outputs": [],
   "source": [
    "# Drop duplicates\n",
    "assessments_df = assessments_df.drop_duplicates()\n",
    "\n",
    "# Drop null values where empID are null\n",
    "\n",
    "assessments_df = assessments_df.dropna()"
   ]
  },
  {
   "cell_type": "code",
   "execution_count": 42,
   "metadata": {},
   "outputs": [
    {
     "name": "stdout",
     "output_type": "stream",
     "text": [
      "<class 'pandas.core.frame.DataFrame'>\n",
      "Index: 74 entries, 0 to 93\n",
      "Data columns (total 9 columns):\n",
      " #   Column            Non-Null Count  Dtype  \n",
      "---  ------            --------------  -----  \n",
      " 0   assessmentid      74 non-null     int64  \n",
      " 1   empid             74 non-null     float64\n",
      " 2   courseid          74 non-null     int64  \n",
      " 3   skillid           74 non-null     int64  \n",
      " 4   assessment_score  74 non-null     float64\n",
      " 5   max_score         74 non-null     int64  \n",
      " 6   due_date          74 non-null     object \n",
      " 7   test_taken        74 non-null     object \n",
      " 8   test_completed    74 non-null     object \n",
      "dtypes: float64(2), int64(4), object(3)\n",
      "memory usage: 5.8+ KB\n"
     ]
    }
   ],
   "source": [
    "assessments_df.info()"
   ]
  },
  {
   "cell_type": "code",
   "execution_count": 43,
   "metadata": {},
   "outputs": [
    {
     "data": {
      "text/plain": [
       "Text(0.5, 0, 'Assessment Score')"
      ]
     },
     "execution_count": 43,
     "metadata": {},
     "output_type": "execute_result"
    },
    {
     "data": {
      "image/png": "[encoded data removed]",
      "text/plain": [
       "<Figure size 1200x400 with 1 Axes>"
      ]
     },
     "metadata": {},
     "output_type": "display_data"
    }
   ],
   "source": [
    "# assessment scores distribution\n",
    "plt.figure(figsize = (12,4))\n",
    "\n",
    "sns.histplot(data = assessments_df, x = \"assessment_score\", kde = True)\n",
    "plt.title(\"Assessment Score Distribution\")\n",
    "plt.xlabel(\"Assessment Score\")"
   ]
  },
  {
   "cell_type": "code",
   "execution_count": 44,
   "metadata": {},
   "outputs": [
    {
     "data": {
      "text/plain": [
       "Text(0.5, 0, 'Assessment Score')"
      ]
     },
     "execution_count": 44,
     "metadata": {},
     "output_type": "execute_result"
    },
    {
     "data": {
      "image/png": "[encoded data removed]",
      "text/plain": [
       "<Figure size 1200x400 with 1 Axes>"
      ]
     },
     "metadata": {},
     "output_type": "display_data"
    }
   ],
   "source": [
    "# Check for outliers \n",
    "plt.figure(figsize = (12,4))\n",
    "\n",
    "sns.boxplot(data = assessments_df, x = \"assessment_score\")\n",
    "plt.title(\"Assessment Score Boxplot\")\n",
    "plt.xlabel(\"Assessment Score\")"
   ]
  },
  {
   "cell_type": "markdown",
   "metadata": {},
   "source": [
    "## Employees Data"
   ]
  },
  {
   "cell_type": "code",
   "execution_count": 45,
   "metadata": {},
   "outputs": [
    {
     "data": {
      "text/html": [
       "<div>\n",
       "<style scoped>\n",
       "    .dataframe tbody tr th:only-of-type {\n",
       "        vertical-align: middle;\n",
       "    }\n",
       "\n",
       "    .dataframe tbody tr th {\n",
       "        vertical-align: top;\n",
       "    }\n",
       "\n",
       "    .dataframe thead th {\n",
       "        text-align: right;\n",
       "    }\n",
       "</style>\n",
       "<table border=\"1\" class=\"dataframe\">\n",
       "  <thead>\n",
       "    <tr style=\"text-align: right;\">\n",
       "      <th></th>\n",
       "      <th>empid</th>\n",
       "      <th>empname</th>\n",
       "      <th>desgination</th>\n",
       "      <th>experience</th>\n",
       "      <th>birth_date</th>\n",
       "      <th>hire_date</th>\n",
       "      <th>salary</th>\n",
       "      <th>gender</th>\n",
       "      <th>activestatus</th>\n",
       "      <th>created_at</th>\n",
       "    </tr>\n",
       "  </thead>\n",
       "  <tbody>\n",
       "    <tr>\n",
       "      <th>0</th>\n",
       "      <td>1</td>\n",
       "      <td>Alice Johnson</td>\n",
       "      <td>Software Engineer</td>\n",
       "      <td>3 years</td>\n",
       "      <td>5/15/1990</td>\n",
       "      <td>6/1/2021</td>\n",
       "      <td>75000</td>\n",
       "      <td>Female</td>\n",
       "      <td>Active</td>\n",
       "      <td>6/1/2021 9:00</td>\n",
       "    </tr>\n",
       "    <tr>\n",
       "      <th>1</th>\n",
       "      <td>2</td>\n",
       "      <td>Bob Smith</td>\n",
       "      <td>Sr. Software Engineer</td>\n",
       "      <td>5 years</td>\n",
       "      <td>8/22/1988</td>\n",
       "      <td>3/15/2019</td>\n",
       "      <td>90000</td>\n",
       "      <td>Male</td>\n",
       "      <td>Active</td>\n",
       "      <td>3/15/2019 10:00</td>\n",
       "    </tr>\n",
       "    <tr>\n",
       "      <th>2</th>\n",
       "      <td>3</td>\n",
       "      <td>Charlie Brown</td>\n",
       "      <td>Solutions Enabler</td>\n",
       "      <td>4 years</td>\n",
       "      <td>1/10/1992</td>\n",
       "      <td>7/20/2020</td>\n",
       "      <td>85000</td>\n",
       "      <td>Male</td>\n",
       "      <td>Inactive</td>\n",
       "      <td>7/20/2020 11:00</td>\n",
       "    </tr>\n",
       "    <tr>\n",
       "      <th>3</th>\n",
       "      <td>4</td>\n",
       "      <td>Diana Prince</td>\n",
       "      <td>Solutions Consultant</td>\n",
       "      <td>6 years</td>\n",
       "      <td>12/30/1985</td>\n",
       "      <td>4/10/2018</td>\n",
       "      <td>110000</td>\n",
       "      <td>Female</td>\n",
       "      <td>Active</td>\n",
       "      <td>4/10/2018 12:00</td>\n",
       "    </tr>\n",
       "    <tr>\n",
       "      <th>4</th>\n",
       "      <td>5</td>\n",
       "      <td>Evelyn Harper</td>\n",
       "      <td>Principal Architect</td>\n",
       "      <td>10 years</td>\n",
       "      <td>9/14/1982</td>\n",
       "      <td>11/11/2015</td>\n",
       "      <td>150000</td>\n",
       "      <td>Female</td>\n",
       "      <td>Active</td>\n",
       "      <td>11/11/2015 13:00</td>\n",
       "    </tr>\n",
       "  </tbody>\n",
       "</table>\n",
       "</div>"
      ],
      "text/plain": [
       "   empid        empname            desgination experience  birth_date  \\\n",
       "0      1  Alice Johnson      Software Engineer    3 years   5/15/1990   \n",
       "1      2      Bob Smith  Sr. Software Engineer    5 years   8/22/1988   \n",
       "2      3  Charlie Brown      Solutions Enabler    4 years   1/10/1992   \n",
       "3      4   Diana Prince   Solutions Consultant    6 years  12/30/1985   \n",
       "4      5  Evelyn Harper    Principal Architect   10 years   9/14/1982   \n",
       "\n",
       "    hire_date  salary  gender activestatus        created_at  \n",
       "0    6/1/2021   75000  Female       Active     6/1/2021 9:00  \n",
       "1   3/15/2019   90000    Male       Active   3/15/2019 10:00  \n",
       "2   7/20/2020   85000    Male     Inactive   7/20/2020 11:00  \n",
       "3   4/10/2018  110000  Female       Active   4/10/2018 12:00  \n",
       "4  11/11/2015  150000  Female       Active  11/11/2015 13:00  "
      ]
     },
     "execution_count": 45,
     "metadata": {},
     "output_type": "execute_result"
    }
   ],
   "source": [
    "employees_df.head()"
   ]
  },
  {
   "cell_type": "code",
   "execution_count": 46,
   "metadata": {},
   "outputs": [
    {
     "name": "stdout",
     "output_type": "stream",
     "text": [
      "<class 'pandas.core.frame.DataFrame'>\n",
      "RangeIndex: 150 entries, 0 to 149\n",
      "Data columns (total 10 columns):\n",
      " #   Column        Non-Null Count  Dtype \n",
      "---  ------        --------------  ----- \n",
      " 0   empid         150 non-null    int64 \n",
      " 1   empname       150 non-null    object\n",
      " 2   desgination   150 non-null    object\n",
      " 3   experience    150 non-null    object\n",
      " 4   birth_date    150 non-null    object\n",
      " 5   hire_date     150 non-null    object\n",
      " 6   salary        150 non-null    int64 \n",
      " 7   gender        150 non-null    object\n",
      " 8   activestatus  150 non-null    object\n",
      " 9   created_at    150 non-null    object\n",
      "dtypes: int64(2), object(8)\n",
      "memory usage: 11.8+ KB\n"
     ]
    }
   ],
   "source": [
    "employees_df.info()"
   ]
  },
  {
   "cell_type": "code",
   "execution_count": 47,
   "metadata": {},
   "outputs": [
    {
     "data": {
      "text/plain": [
       "empid           0\n",
       "empname         0\n",
       "desgination     0\n",
       "experience      0\n",
       "birth_date      0\n",
       "hire_date       0\n",
       "salary          0\n",
       "gender          0\n",
       "activestatus    0\n",
       "created_at      0\n",
       "dtype: int64"
      ]
     },
     "execution_count": 47,
     "metadata": {},
     "output_type": "execute_result"
    }
   ],
   "source": [
    "employees_df.isnull().sum()"
   ]
  },
  {
   "cell_type": "code",
   "execution_count": 48,
   "metadata": {},
   "outputs": [
    {
     "data": {
      "text/plain": [
       "np.False_"
      ]
     },
     "execution_count": 48,
     "metadata": {},
     "output_type": "execute_result"
    }
   ],
   "source": [
    "employees_df.duplicated().any()"
   ]
  },
  {
   "cell_type": "code",
   "execution_count": 49,
   "metadata": {},
   "outputs": [],
   "source": [
    "employees_df.columns = ['empid', 'empname', 'designation', 'experience', 'birth_date',\n",
    "       'hire_date', 'salary', 'gender', 'activestatus', 'created_at']"
   ]
  },
  {
   "cell_type": "code",
   "execution_count": 50,
   "metadata": {},
   "outputs": [],
   "source": [
    "# Change the experience column to integer\n",
    "employees_df[\"experience\"] = employees_df.experience.apply(lambda x : x.split()[0]).astype(\"int\")"
   ]
  },
  {
   "cell_type": "code",
   "execution_count": 51,
   "metadata": {},
   "outputs": [],
   "source": [
    "# change datetime columns \n",
    "employees_df[\"birth_date\"] = pd.to_datetime(employees_df.birth_date)\n",
    "employees_df[\"hire_date\"] = pd.to_datetime(employees_df.hire_date)\n",
    "employees_df[\"created_at\"] = pd.to_datetime(employees_df.created_at)"
   ]
  },
  {
   "cell_type": "code",
   "execution_count": 52,
   "metadata": {},
   "outputs": [
    {
     "name": "stderr",
     "output_type": "stream",
     "text": [
      "C:\\Users\\RishabhSaklani\\AppData\\Local\\Temp\\ipykernel_12452\\2224996494.py:3: FutureWarning: \n",
      "\n",
      "Passing `palette` without assigning `hue` is deprecated and will be removed in v0.14.0. Assign the `x` variable to `hue` and set `legend=False` for the same effect.\n",
      "\n",
      "  sns.countplot(data = employees_df,  x = \"gender\", palette = \"ch:start=.2,rot=-.3\")\n"
     ]
    },
    {
     "data": {
      "text/plain": [
       "Text(0, 0.5, 'Employee Count')"
      ]
     },
     "execution_count": 52,
     "metadata": {},
     "output_type": "execute_result"
    },
    {
     "data": {
      "image/png": "[encoded data removed]",
      "text/plain": [
       "<Figure size 640x480 with 1 Axes>"
      ]
     },
     "metadata": {},
     "output_type": "display_data"
    }
   ],
   "source": [
    "# Check male female ratio\n",
    "\n",
    "sns.countplot(data = employees_df,  x = \"gender\", palette = \"ch:start=.2,rot=-.3\")\n",
    "plt.title(\"Gender Ratio in the company\")\n",
    "plt.xlabel(\"Gender\")\n",
    "plt.ylabel(\"Employee Count\")"
   ]
  },
  {
   "cell_type": "code",
   "execution_count": 53,
   "metadata": {},
   "outputs": [
    {
     "name": "stderr",
     "output_type": "stream",
     "text": [
      "C:\\Users\\RishabhSaklani\\AppData\\Local\\Temp\\ipykernel_12452\\507487060.py:3: FutureWarning: \n",
      "\n",
      "Passing `palette` without assigning `hue` is deprecated and will be removed in v0.14.0. Assign the `x` variable to `hue` and set `legend=False` for the same effect.\n",
      "\n",
      "  sns.countplot(data = employees_df,  x = \"designation\", palette = \"ch:start=.2,rot=-.3\")\n"
     ]
    },
    {
     "data": {
      "text/plain": [
       "Text(0, 0.5, 'Employee Count')"
      ]
     },
     "execution_count": 53,
     "metadata": {},
     "output_type": "execute_result"
    },
    {
     "data": {
      "image/png": "[encoded data removed]",
      "text/plain": [
       "<Figure size 1200x500 with 1 Axes>"
      ]
     },
     "metadata": {},
     "output_type": "display_data"
    }
   ],
   "source": [
    "plt.figure(figsize = (12,5))\n",
    "\n",
    "sns.countplot(data = employees_df,  x = \"designation\", palette = \"ch:start=.2,rot=-.3\")\n",
    "plt.title(\"Designation Count in Company\")\n",
    "plt.xlabel(\"Designation\")\n",
    "plt.ylabel(\"Employee Count\")"
   ]
  },
  {
   "cell_type": "code",
   "execution_count": 54,
   "metadata": {},
   "outputs": [
    {
     "data": {
      "text/plain": [
       "Index(['empid', 'empname', 'designation', 'experience', 'birth_date',\n",
       "       'hire_date', 'salary', 'gender', 'activestatus', 'created_at'],\n",
       "      dtype='object')"
      ]
     },
     "execution_count": 54,
     "metadata": {},
     "output_type": "execute_result"
    }
   ],
   "source": [
    "employees_df.columns"
   ]
  },
  {
   "cell_type": "code",
   "execution_count": 55,
   "metadata": {},
   "outputs": [
    {
     "data": {
      "text/plain": [
       "Text(0, 0.5, 'Salary (per month)')"
      ]
     },
     "execution_count": 55,
     "metadata": {},
     "output_type": "execute_result"
    },
    {
     "data": {
      "image/png": "[encoded data removed]",
      "text/plain": [
       "<Figure size 1200x600 with 1 Axes>"
      ]
     },
     "metadata": {},
     "output_type": "display_data"
    }
   ],
   "source": [
    "# Experience and salary relation\n",
    "\n",
    "plt.figure(figsize = (12,6))\n",
    "\n",
    "sns.regplot(data = employees_df, x = \"experience\", y = \"salary\")\n",
    "plt.xlabel(\"Experience (in years)\")\n",
    "plt.ylabel(\"Salary (per month)\")"
   ]
  },
  {
   "cell_type": "markdown",
   "metadata": {},
   "source": [
    "### Push the data in the mart folder as staging files"
   ]
  },
  {
   "cell_type": "code",
   "execution_count": 56,
   "metadata": {},
   "outputs": [],
   "source": [
    "assessments_df.to_csv(path_or_buf = r\"./mart/stg_assessments.csv\", index=False)\n",
    "courses_df.to_csv(path_or_buf = r\"./mart/stg_courses.csv\", index=False)\n",
    "course_skill_df.to_csv(path_or_buf = r\"./mart/stg_courses_skills.csv\", index=False)\n",
    "employees_df.to_csv(path_or_buf = r\"./mart/stg_employees.csv\", index=False)\n",
    "employee_skill_proficiency_df.to_csv(path_or_buf = r\"./mart/stg_employee_skill_proficiency.csv\", index=False)\n",
    "skills_df.to_csv(path_or_buf = r\"./mart/stg_skills.csv\", index=False)"
   ]
  }
 ],
 "metadata": {
  "kernelspec": {
   "display_name": "Python 3",
   "language": "python",
   "name": "python3"
  },
  "language_info": {
   "codemirror_mode": {
    "name": "ipython",
    "version": 3
   },
   "file_extension": ".py",
   "mimetype": "text/x-python",
   "name": "python",
   "nbconvert_exporter": "python",
   "pygments_lexer": "ipython3",
   "version": "3.12.5"
  }
 },
 "nbformat": 4,
 "nbformat_minor": 2
}
